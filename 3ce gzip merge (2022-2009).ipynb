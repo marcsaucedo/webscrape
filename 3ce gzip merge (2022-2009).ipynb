{
 "cells": [
  {
   "cell_type": "code",
   "execution_count": 2,
   "id": "e8780653",
   "metadata": {},
   "outputs": [],
   "source": [
    "import os\n",
    "import glob\n",
    "import gzip\n",
    "import pandas as pd\n",
    "import pathlib"
   ]
  },
  {
   "cell_type": "code",
   "execution_count": 2,
   "id": "64b32480",
   "metadata": {},
   "outputs": [],
   "source": [
    "directory = os.chdir(\"S://Projects/Intern Projects/Colorado Intern/3ce/GZIP FILES/2020\")"
   ]
  },
  {
   "cell_type": "code",
   "execution_count": 3,
   "id": "cfa519d7",
   "metadata": {},
   "outputs": [
    {
     "data": {
      "text/plain": [
       "'S:\\\\Projects\\\\Intern Projects\\\\Colorado Intern\\\\3ce\\\\GZIP FILES\\\\2020'"
      ]
     },
     "execution_count": 3,
     "metadata": {},
     "output_type": "execute_result"
    }
   ],
   "source": [
    "os.getcwd()"
   ]
  },
  {
   "cell_type": "code",
   "execution_count": 20,
   "id": "dd934f57",
   "metadata": {
    "scrolled": true
   },
   "outputs": [],
   "source": [
    "files = os.listdir(directory)"
   ]
  },
  {
   "cell_type": "code",
   "execution_count": 9,
   "id": "a5d0b2ce",
   "metadata": {},
   "outputs": [],
   "source": [
    "#YEAR 2022\n",
    "directory = os.chdir(\"S://Projects/Intern Projects/Colorado Intern/3ce/GZIP FILES/2022\")\n",
    "files = os.listdir(directory)\n",
    "all_data = pd.read_csv(files[0], delim_whitespace = True, header = None, nrows = 0)\n",
    "for file in files: \n",
    "    station_data = pd.read_csv(file, delim_whitespace = True, header = None)\n",
    "    station_data['StationID'] = '-'.join(os.path.basename(file).split('-')[:2])\n",
    "    all_data = all_data.append(station_data)\n",
    "all_data.to_csv('all_data2022.csv', header = None, index = False)"
   ]
  },
  {
   "cell_type": "code",
   "execution_count": null,
   "id": "c9141131",
   "metadata": {},
   "outputs": [],
   "source": []
  },
  {
   "cell_type": "code",
   "execution_count": 7,
   "id": "badcfbee",
   "metadata": {},
   "outputs": [],
   "source": [
    "#YEAR 2021\n",
    "directory = os.chdir(\"S://Projects/Intern Projects/Colorado Intern/3ce/GZIP FILES/2021\")\n",
    "files = os.listdir(directory)\n",
    "all_data = pd.read_csv(files[0], delim_whitespace = True, header = None, nrows = 0)\n",
    "for file in files: \n",
    "    station_data = pd.read_csv(file, delim_whitespace = True, header = None)\n",
    "    station_data['StationID'] = '-'.join(os.path.basename(file).split('-')[:2])\n",
    "    all_data = all_data.append(station_data)\n",
    "all_data.to_csv('all_data2021.csv', header = None, index = False)"
   ]
  },
  {
   "cell_type": "code",
   "execution_count": null,
   "id": "d693c914",
   "metadata": {},
   "outputs": [],
   "source": []
  },
  {
   "cell_type": "code",
   "execution_count": 21,
   "id": "ae90a46b",
   "metadata": {
    "scrolled": true
   },
   "outputs": [],
   "source": [
    "#YEAR 2020\n",
    "\n",
    "all_data = pd.read_csv(files[0], delim_whitespace = True, header = None, nrows = 0)\n",
    "for file in files: \n",
    "    station_data = pd.read_csv(file, delim_whitespace = True, header = None)\n",
    "    station_data['StationID'] = '-'.join(os.path.basename(file).split('-')[:2])\n",
    "    all_data = all_data.append(station_data)\n",
    "all_data.to_csv('all_data2020.csv', header = None, index = False)"
   ]
  },
  {
   "cell_type": "code",
   "execution_count": null,
   "id": "d2756d95",
   "metadata": {},
   "outputs": [],
   "source": []
  },
  {
   "cell_type": "code",
   "execution_count": 4,
   "id": "17295771",
   "metadata": {},
   "outputs": [],
   "source": [
    "#YEAR 2019\n",
    "\n",
    "directory = os.chdir(\"S://Projects/Intern Projects/Colorado Intern/3ce/GZIP FILES/2019\")\n",
    "files = os.listdir(directory)\n",
    "all_data = pd.read_csv(files[0], delim_whitespace = True, header = None, nrows = 0)\n",
    "for file in files: \n",
    "    station_data = pd.read_csv(file, delim_whitespace = True, header = None)\n",
    "    station_data['StationID'] = '-'.join(os.path.basename(file).split('-')[:2])\n",
    "    all_data = all_data.append(station_data)\n",
    "all_data.to_csv('all_data2019.csv', header = None, index = False)"
   ]
  },
  {
   "cell_type": "code",
   "execution_count": null,
   "id": "851a61da",
   "metadata": {},
   "outputs": [],
   "source": []
  },
  {
   "cell_type": "code",
   "execution_count": 5,
   "id": "67c18a68",
   "metadata": {},
   "outputs": [],
   "source": [
    "#YEAR 2018\n",
    "directory = os.chdir(\"S://Projects/Intern Projects/Colorado Intern/3ce/GZIP FILES/2018\")\n",
    "files = os.listdir(directory)\n",
    "all_data = pd.read_csv(files[0], delim_whitespace = True, header = None, nrows = 0)\n",
    "for file in files: \n",
    "    station_data = pd.read_csv(file, delim_whitespace = True, header = None)\n",
    "    station_data['StationID'] = '-'.join(os.path.basename(file).split('-')[:2])\n",
    "    all_data = all_data.append(station_data)\n",
    "all_data.to_csv('all_data2018.csv', header = None, index = False)"
   ]
  },
  {
   "cell_type": "code",
   "execution_count": null,
   "id": "1d58246b",
   "metadata": {},
   "outputs": [],
   "source": []
  },
  {
   "cell_type": "code",
   "execution_count": 6,
   "id": "5f6fd9f8",
   "metadata": {},
   "outputs": [],
   "source": [
    "#YEAR 2017\n",
    "directory = os.chdir(\"S://Projects/Intern Projects/Colorado Intern/3ce/GZIP FILES/2017\")\n",
    "files = os.listdir(directory)\n",
    "all_data = pd.read_csv(files[0], delim_whitespace = True, header = None, nrows = 0)\n",
    "for file in files: \n",
    "    station_data = pd.read_csv(file, delim_whitespace = True, header = None)\n",
    "    station_data['StationID'] = '-'.join(os.path.basename(file).split('-')[:2])\n",
    "    all_data = all_data.append(station_data)\n",
    "all_data.to_csv('all_data2017.csv', header = None, index = False)"
   ]
  },
  {
   "cell_type": "code",
   "execution_count": null,
   "id": "a1024dbb",
   "metadata": {},
   "outputs": [],
   "source": []
  },
  {
   "cell_type": "code",
   "execution_count": 4,
   "id": "1af40865",
   "metadata": {},
   "outputs": [],
   "source": [
    "#YEAR 2016\n",
    "directory = os.chdir(\"S://Projects/Intern Projects/Colorado Intern/3ce/GZIP FILES/2016\")\n",
    "files = os.listdir(directory)\n",
    "all_data = pd.read_csv(files[0], delim_whitespace = True, header = None, nrows = 0)\n",
    "for file in files: \n",
    "    station_data = pd.read_csv(file, delim_whitespace = True, header = None)\n",
    "    station_data['StationID'] = '-'.join(os.path.basename(file).split('-')[:2])\n",
    "    all_data = all_data.append(station_data)\n",
    "all_data.to_csv('all_data2016.csv', header = None, index = False)"
   ]
  },
  {
   "cell_type": "code",
   "execution_count": null,
   "id": "539d1640",
   "metadata": {},
   "outputs": [],
   "source": []
  },
  {
   "cell_type": "code",
   "execution_count": 5,
   "id": "c874c2ca",
   "metadata": {},
   "outputs": [],
   "source": [
    "#YEAR 2015\n",
    "directory = os.chdir(\"S://Projects/Intern Projects/Colorado Intern/3ce/GZIP FILES/2015\")\n",
    "files = os.listdir(directory)\n",
    "all_data = pd.read_csv(files[0], delim_whitespace = True, header = None, nrows = 0)\n",
    "for file in files: \n",
    "    station_data = pd.read_csv(file, delim_whitespace = True, header = None)\n",
    "    station_data['StationID'] = '-'.join(os.path.basename(file).split('-')[:2])\n",
    "    all_data = all_data.append(station_data)\n",
    "all_data.to_csv('all_data2015.csv', header = None, index = False)"
   ]
  },
  {
   "cell_type": "code",
   "execution_count": null,
   "id": "46597fed",
   "metadata": {},
   "outputs": [],
   "source": []
  },
  {
   "cell_type": "code",
   "execution_count": 6,
   "id": "b49f69a2",
   "metadata": {},
   "outputs": [],
   "source": [
    "#YEAR 2014\n",
    "directory = os.chdir(\"S://Projects/Intern Projects/Colorado Intern/3ce/GZIP FILES/2014\")\n",
    "files = os.listdir(directory)\n",
    "all_data = pd.read_csv(files[0], delim_whitespace = True, header = None, nrows = 0)\n",
    "for file in files: \n",
    "    station_data = pd.read_csv(file, delim_whitespace = True, header = None)\n",
    "    station_data['StationID'] = '-'.join(os.path.basename(file).split('-')[:2])\n",
    "    all_data = all_data.append(station_data)\n",
    "all_data.to_csv('all_data2014.csv', header = None, index = False)"
   ]
  },
  {
   "cell_type": "code",
   "execution_count": null,
   "id": "fb59f4f5",
   "metadata": {},
   "outputs": [],
   "source": []
  },
  {
   "cell_type": "code",
   "execution_count": 7,
   "id": "578d50c1",
   "metadata": {},
   "outputs": [],
   "source": [
    "#YEAR 2013\n",
    "directory = os.chdir(\"S://Projects/Intern Projects/Colorado Intern/3ce/GZIP FILES/2013\")\n",
    "files = os.listdir(directory)\n",
    "all_data = pd.read_csv(files[0], delim_whitespace = True, header = None, nrows = 0)\n",
    "for file in files: \n",
    "    station_data = pd.read_csv(file, delim_whitespace = True, header = None)\n",
    "    station_data['StationID'] = '-'.join(os.path.basename(file).split('-')[:2])\n",
    "    all_data = all_data.append(station_data)\n",
    "all_data.to_csv('all_data2013.csv', header = None, index = False)"
   ]
  },
  {
   "cell_type": "code",
   "execution_count": null,
   "id": "ad564d26",
   "metadata": {},
   "outputs": [],
   "source": []
  },
  {
   "cell_type": "code",
   "execution_count": 8,
   "id": "f112c1c3",
   "metadata": {},
   "outputs": [],
   "source": [
    "#YEAR 2012\n",
    "directory = os.chdir(\"S://Projects/Intern Projects/Colorado Intern/3ce/GZIP FILES/2012\")\n",
    "files = os.listdir(directory)\n",
    "all_data = pd.read_csv(files[0], delim_whitespace = True, header = None, nrows = 0)\n",
    "for file in files: \n",
    "    station_data = pd.read_csv(file, delim_whitespace = True, header = None)\n",
    "    station_data['StationID'] = '-'.join(os.path.basename(file).split('-')[:2])\n",
    "    all_data = all_data.append(station_data)\n",
    "all_data.to_csv('all_data2012.csv', header = None, index = False)"
   ]
  },
  {
   "cell_type": "code",
   "execution_count": null,
   "id": "08bbf862",
   "metadata": {},
   "outputs": [],
   "source": []
  },
  {
   "cell_type": "code",
   "execution_count": 9,
   "id": "409eb7ea",
   "metadata": {},
   "outputs": [],
   "source": [
    "#YEAR 2011\n",
    "directory = os.chdir(\"S://Projects/Intern Projects/Colorado Intern/3ce/GZIP FILES/2011\")\n",
    "files = os.listdir(directory)\n",
    "all_data = pd.read_csv(files[0], delim_whitespace = True, header = None, nrows = 0)\n",
    "for file in files: \n",
    "    station_data = pd.read_csv(file, delim_whitespace = True, header = None)\n",
    "    station_data['StationID'] = '-'.join(os.path.basename(file).split('-')[:2])\n",
    "    all_data = all_data.append(station_data)\n",
    "all_data.to_csv('all_data2011.csv', header = None, index = False)"
   ]
  },
  {
   "cell_type": "code",
   "execution_count": null,
   "id": "957d3bfc",
   "metadata": {},
   "outputs": [],
   "source": []
  },
  {
   "cell_type": "code",
   "execution_count": 10,
   "id": "15f84437",
   "metadata": {},
   "outputs": [],
   "source": [
    "#YEAR 2010\n",
    "directory = os.chdir(\"S://Projects/Intern Projects/Colorado Intern/3ce/GZIP FILES/2010\")\n",
    "files = os.listdir(directory)\n",
    "all_data = pd.read_csv(files[0], delim_whitespace = True, header = None, nrows = 0)\n",
    "for file in files: \n",
    "    station_data = pd.read_csv(file, delim_whitespace = True, header = None)\n",
    "    station_data['StationID'] = '-'.join(os.path.basename(file).split('-')[:2])\n",
    "    all_data = all_data.append(station_data)\n",
    "all_data.to_csv('all_data2010.csv', header = None, index = False)"
   ]
  },
  {
   "cell_type": "code",
   "execution_count": null,
   "id": "da9c5c66",
   "metadata": {},
   "outputs": [],
   "source": []
  },
  {
   "cell_type": "code",
   "execution_count": 11,
   "id": "d23652c4",
   "metadata": {},
   "outputs": [],
   "source": [
    "#YEAR 2009\n",
    "directory = os.chdir(\"S://Projects/Intern Projects/Colorado Intern/3ce/GZIP FILES/2009\")\n",
    "files = os.listdir(directory)\n",
    "all_data = pd.read_csv(files[0], delim_whitespace = True, header = None, nrows = 0)\n",
    "for file in files: \n",
    "    station_data = pd.read_csv(file, delim_whitespace=True, header = None)\n",
    "    station_data['StationID'] = '-'.join(os.path.basename(file).split('-')[:2])\n",
    "    all_data = all_data.append(station_data)\n",
    "all_data.to_csv('all_data2009.csv', header = None, index = False)"
   ]
  },
  {
   "cell_type": "code",
   "execution_count": null,
   "id": "058d9f8e",
   "metadata": {},
   "outputs": [],
   "source": []
  },
  {
   "cell_type": "code",
   "execution_count": 3,
   "id": "e4f345c3",
   "metadata": {
    "scrolled": false
   },
   "outputs": [
    {
     "name": "stderr",
     "output_type": "stream",
     "text": [
      "C:\\Users\\msaucedo\\Anaconda3\\lib\\site-packages\\IPython\\core\\interactiveshell.py:3444: FutureWarning: The error_bad_lines argument has been deprecated and will be removed in a future version.\n",
      "\n",
      "\n",
      "  exec(code_obj, self.user_global_ns, self.user_ns)\n"
     ]
    }
   ],
   "source": [
    "#YEAR 2008\n",
    "directory = os.chdir(\"S://Projects/Intern Projects/Colorado Intern/3ce/GZIP FILES/2008\")\n",
    "files = os.listdir(directory)\n",
    "all_data = pd.read_csv(files[0], sep='delimiter', engine='python', header=None, nrows=0)\n",
    "for file in files: \n",
    "    station_data = pd.read_csv(file, sep='delimiter', engine='python', header=None, error_bad_lines=False)\n",
    "    station_data['StationID'] = '-'.join(os.path.basename(file).split('-')[:2])\n",
    "    all_data = all_data.append(station_data)\n",
    "all_data.to_csv('all_data2008.csv', header = None, index = False)"
   ]
  },
  {
   "cell_type": "code",
   "execution_count": null,
   "id": "ea79fdd6",
   "metadata": {},
   "outputs": [],
   "source": []
  }
 ],
 "metadata": {
  "kernelspec": {
   "display_name": "Python 3 (ipykernel)",
   "language": "python",
   "name": "python3"
  },
  "language_info": {
   "codemirror_mode": {
    "name": "ipython",
    "version": 3
   },
   "file_extension": ".py",
   "mimetype": "text/x-python",
   "name": "python",
   "nbconvert_exporter": "python",
   "pygments_lexer": "ipython3",
   "version": "3.9.7"
  }
 },
 "nbformat": 4,
 "nbformat_minor": 5
}
